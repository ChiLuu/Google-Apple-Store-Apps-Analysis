{
 "cells": [
  {
   "cell_type": "markdown",
   "metadata": {},
   "source": [
    "# Jupyter One\n",
    "---\n",
    "This is my first Jupyter project and will be a guided project from [Dataquest.io](https://www.dataquest.io/).\n",
    "\n",
    "In this project, the goal is to assist a company that makes free apps to find the types of apps that attracts the most users. As the company's profit is based on advertisements, creating the most popular type of apps directly influence their income. Based on data from both the Apple's Apps Store and Google's Play store, this project will complete the following goals:\n",
    "\n",
    "* Retrieve relevant data from each data set.\n",
    "* Remove inaccurate data.\n",
    "* Remove duplicate entries.\n",
    "* Remove non-English data.\n",
    "* Isolate free apps for analysis.\n",
    "\n",
    "    \n",
    "\n",
    "---\n",
    "### Data Set Information\n",
    "Of the millions of apps available on both platform, we are taking a small sample from each.\n",
    "\n",
    "Apple Store's data set documentation can be found [here](https://www.kaggle.com/ramamet4/app-store-apple-data-set-10k-apps/version/7). This data set is a sample data from 7,197 apps found in Apple's App Store.\n",
    "\n",
    "Google Play Store's data set documentation can be found [here](https://www.kaggle.com/lava18/google-play-store-apps/home). This data set is a sample data from 10,841 apps found in Google's Play Store."
   ]
  },
  {
   "cell_type": "code",
   "execution_count": 35,
   "metadata": {},
   "outputs": [],
   "source": [
    "from csv import reader\n",
    "\n",
    "### App Store data\n",
    "ios_file = open('.\\dataset\\AppleStore\\AppleStore.csv', encoding='utf8')\n",
    "read_ios = reader(ios_file)\n",
    "ios = list(read_ios)\n",
    "app_header = ios[0]\n",
    "app = ios[1:]\n",
    "\n",
    "android_file = open('.\\dataset\\PlayStore\\googleplaystore.csv', encoding='utf8')\n",
    "read_android = reader(android_file)\n",
    "android = list(read_android)\n",
    "play_header = android[0]\n",
    "play = android[1:]"
   ]
  },
  {
   "cell_type": "markdown",
   "metadata": {},
   "source": [
    "Before we start and to make things easier, the function `explore_data()` is created to go through a data set's information."
   ]
  },
  {
   "cell_type": "code",
   "execution_count": 32,
   "metadata": {
    "collapsed": true
   },
   "outputs": [],
   "source": [
    "def explore_data(dataset, start, end, rows_and_columns=False):\n",
    "    dataset_slice = dataset[start:end]    \n",
    "    for row in dataset_slice:\n",
    "        print(row)\n",
    "        print('\\n') # adds a new (empty) line after each row\n",
    "\n",
    "    if rows_and_columns:\n",
    "        print('Number of rows:', len(dataset))\n",
    "        print('Number of columns:', len(dataset[0]))"
   ]
  },
  {
   "cell_type": "markdown",
   "metadata": {},
   "source": [
    "---\n",
    "**Useful Columns**\n",
    "\n",
    "App Store's columns that are useful for our goal are: `track_name`[2], `currency`[4], `price`[5], `rating_count_tot`[6], `rating_count_ver`[7], `prime_genre`[12].\n",
    "\n",
    "Google Play Store's columns that are useful are: `App`[0], `Category`[1], `Reviews`[3], `Installs`[5], `Type`[6], `Price`[7], `Genre`[9].\n"
   ]
  },
  {
   "cell_type": "code",
   "execution_count": 33,
   "metadata": {},
   "outputs": [
    {
     "name": "stdout",
     "output_type": "stream",
     "text": [
      "App Store header\n",
      " ['', 'id', 'track_name', 'size_bytes', 'currency', 'price', 'rating_count_tot', 'rating_count_ver', 'user_rating', 'user_rating_ver', 'ver', 'cont_rating', 'prime_genre', 'sup_devices.num', 'ipadSc_urls.num', 'lang.num', 'vpp_lic']\n",
      "['1', '281656475', 'PAC-MAN Premium', '100788224', 'USD', '3.99', '21292', '26', '4', '4.5', '6.3.5', '4+', 'Games', '38', '5', '10', '1']\n",
      "\n",
      "\n",
      "Number of rows: 7197\n",
      "Number of columns: 17\n",
      "\n",
      "\n",
      "Play Store header\n",
      " ['App', 'Category', 'Rating', 'Reviews', 'Size', 'Installs', 'Type', 'Price', 'Content Rating', 'Genres', 'Last Updated', 'Current Ver', 'Android Ver']\n",
      "['Photo Editor & Candy Camera & Grid & ScrapBook', 'ART_AND_DESIGN', '4.1', '159', '19M', '10,000+', 'Free', '0', 'Everyone', 'Art & Design', 'January 7, 2018', '1.0.0', '4.0.3 and up']\n",
      "\n",
      "\n",
      "Number of rows: 10841\n",
      "Number of columns: 13\n"
     ]
    }
   ],
   "source": [
    "print('App Store header\\n', app_header)\n",
    "explore_data(app, 0, 1, True)\n",
    "print('\\n')\n",
    "print('Play Store header\\n', play_header)\n",
    "explore_data(play, 0, 1, True)\n"
   ]
  },
  {
   "cell_type": "markdown",
   "metadata": {},
   "source": [
    "---\n",
    "\n",
    "### Data Clean Up\n",
    "\n",
    "**Issue with data**\n",
    "\n",
    "From [discussion section](https://www.kaggle.com/lava18/google-play-store-apps/discussion) of Google Play Store's documentation, an error was found on one of the row. From one of the [discussion](https://www.kaggle.com/lava18/google-play-store-apps/discussion/81460), looks like the 'Category' data is missing and it cause this row's data to be shift left one column. We will omit this row from our Play Store's sample data."
   ]
  },
  {
   "cell_type": "code",
   "execution_count": 4,
   "metadata": {},
   "outputs": [
    {
     "name": "stdout",
     "output_type": "stream",
     "text": [
      "['Life Made WI-Fi Touchscreen Photo Frame', '1.9', '19', '3.0M', '1,000+', 'Free', '0', 'Everyone', '', 'February 11, 2018', '1.0.19', '4.0 and up']\n",
      "\n",
      " ['osmino Wi-Fi: free WiFi', 'TOOLS', '4.2', '134203', '4.1M', '10,000,000+', 'Free', '0', 'Everyone', 'Tools', 'August 7, 2018', '6.06.14', '4.4 and up']\n"
     ]
    }
   ],
   "source": [
    "print(play[10472])\n",
    "del play[10472]\n",
    "print('\\n', play[10472])"
   ]
  },
  {
   "cell_type": "markdown",
   "metadata": {},
   "source": [
    "---\n",
    "\n",
    "**Duplicate Apps Entries**\n",
    "\n",
    "I have separate the apps into a unique list and duplicate list. Looks like there are 1,181 duplicate entries in the Google Play Store's data set. Grabbing a random app from our duplicate list, the only difference between the duplicate is the number of reviews in column 4 (index 3). The app's data was retrieved at different times and the number of reviews have increased on the subsequence retrieval. I will use this difference find the most recent entry which should be the one with the most reviews. The other duplicates will be removed for each duplicate entry."
   ]
  },
  {
   "cell_type": "code",
   "execution_count": 5,
   "metadata": {},
   "outputs": [
    {
     "name": "stdout",
     "output_type": "stream",
     "text": [
      "Number of unique Play Store apps:  9659\n",
      "Number of duplicate Play Store apps:  1181\n",
      "\n",
      "\n",
      "[\"McDonald's\", 'FOOD_AND_DRINK', '3.6', '145323', '42M', '10,000,000+', 'Free', '0', 'Everyone', 'Food & Drink', 'July 31, 2018', '5.15.0', '4.4 and up']\n",
      "[\"McDonald's\", 'FOOD_AND_DRINK', '3.6', '145646', '42M', '10,000,000+', 'Free', '0', 'Everyone', 'Food & Drink', 'July 31, 2018', '5.15.0', '4.4 and up']\n"
     ]
    }
   ],
   "source": [
    "unique_list = []\n",
    "duplicate_list = []\n",
    "\n",
    "for row in play:\n",
    "    name = row[0]\n",
    "    if name in unique_list:\n",
    "        duplicate_list.append(name)\n",
    "    else:\n",
    "        unique_list.append(name)\n",
    "\n",
    "print('Number of unique Play Store apps: ', len(unique_list))\n",
    "print('Number of duplicate Play Store apps: ', len(duplicate_list))\n",
    "print('\\n')\n",
    "\n",
    "for row in play:\n",
    "    dup_name = duplicate_list[1110]\n",
    "    app_name = row[0]\n",
    "    if dup_name == app_name:\n",
    "        print(row)"
   ]
  },
  {
   "cell_type": "markdown",
   "metadata": {},
   "source": [
    "---\n",
    "\n",
    "**Duplicate Apps Entries**\n",
    "\n",
    "I have separate the apps into a unique list and duplicate list. Looks like there are 1,181 duplicate entries in the Google Play Store's data set. Grabbing a random app from our duplicate list, the only difference between the duplicate is the number of reviews in column 4 (index 3). The app's data was retrieved at different times and the number of reviews have increased on the subsequence retrieval. I will use this difference find the most recent entry which should be the one with the most reviews. The other duplicates will be removed for each duplicate entry."
   ]
  },
  {
   "cell_type": "code",
   "execution_count": 6,
   "metadata": {},
   "outputs": [
    {
     "name": "stdout",
     "output_type": "stream",
     "text": [
      "Expected length: 9659\n",
      "Length of dictionary: 9659\n",
      "Expected reviews numbers for 'McDonald's: 145646\n",
      "Length in dictionary for 'McDonald's: 145646\n"
     ]
    }
   ],
   "source": [
    "max_reviews = {}\n",
    "\n",
    "for row in play:\n",
    "    reviews = int(row[3])\n",
    "    name = row[0]\n",
    "    \n",
    "    if name not in max_reviews:\n",
    "        max_reviews[name] = reviews\n",
    "    elif reviews > max_reviews[name]:\n",
    "        max_reviews[name] = reviews\n",
    "        \n",
    "print('Expected length:', len(play) - 1181)\n",
    "print('Length of dictionary:', len(max_reviews))\n",
    "print(\"Expected reviews numbers for 'McDonald's: 145646\")\n",
    "print(\"Length in dictionary for 'McDonald's:\", max_reviews[\"McDonald's\"])"
   ]
  },
  {
   "cell_type": "markdown",
   "metadata": {},
   "source": [
    "---\n",
    "\n",
    "**Removing Duplicates**\n",
    "\n",
    "Using the dictionary `max_reviews` as a criteria, I loop through all entries in the original Google Play Store data set and only retrieve the entry with the max reviews number into the cleaned list `play_clean`. There are also entries that have the same max reviews number but we only want one. Thus, to in addition to adding the entry to the `play_clean` list, I will also tracked if I have already added the entry in another list called `already_added`. This will be another criterion in order to filter out duplicate entries that have the same max reviews number.\n",
    "\n",
    "The expected unique entries in `play_clean` matches the actual value. Also, by running the code to find number of unique entries again, we can see that there are no duplicates entries."
   ]
  },
  {
   "cell_type": "code",
   "execution_count": 7,
   "metadata": {},
   "outputs": [
    {
     "name": "stdout",
     "output_type": "stream",
     "text": [
      "Expected length: 9659\n",
      "Length of cleaned Google Play Store list: 9659\n",
      "\n",
      "Number of unique Play Store apps:  9659\n",
      "Number of duplicate Play Store apps:  0\n"
     ]
    }
   ],
   "source": [
    "play_clean = []\n",
    "already_added = []\n",
    "\n",
    "for row in play:\n",
    "    reviews = int(row[3])\n",
    "    name = row[0]\n",
    "    \n",
    "    if reviews == max_reviews[name] and name not in already_added:\n",
    "        play_clean.append(row)\n",
    "        already_added.append(name)\n",
    "\n",
    "print('Expected length:', len(play) - 1181)\n",
    "print('Length of cleaned Google Play Store list:', len(play_clean))        \n",
    "\n",
    "unique_list = []\n",
    "duplicate_list = []\n",
    "\n",
    "for row in play_clean:\n",
    "    name = row[0]\n",
    "    if name in unique_list:\n",
    "        duplicate_list.append(name)\n",
    "    else:\n",
    "        unique_list.append(name)\n",
    "\n",
    "print('\\nNumber of unique Play Store apps: ', len(unique_list))\n",
    "print('Number of duplicate Play Store apps: ', len(duplicate_list))"
   ]
  },
  {
   "cell_type": "markdown",
   "metadata": {},
   "source": [
    "---\n",
    "\n",
    "## Removing Non-English Apps\n",
    "\n",
    "**Part 1**\n",
    "\n",
    "From the samples above, we can see that there are some non-english apps in both Apple's App Store and Google's Play Store data sets. The English set of characters have **ASCII** values between 0-127. With that in mind, I will create a function `check_english_char()` that will take in a String (name of app) and will return `True` if all characters in the String is within the range of the English language's ASCII values. However, it will return `False` only if there are more than 3 non-English characters. This is in consideration for some apps with one or more ASCII values that are outside the range such as the trademark symbol (™) and icons(😜). This is not perfect, but it will do for now."
   ]
  },
  {
   "cell_type": "code",
   "execution_count": 8,
   "metadata": {},
   "outputs": [
    {
     "name": "stdout",
     "output_type": "stream",
     "text": [
      "腾讯视频-欢乐颂2全网首播\n",
      "搜狐视频-欢乐颂2 全网首播\n",
      "中国語 AQリスニング\n",
      "لعبة تقدر تربح DZ\n",
      "\n",
      "\n",
      "True\n",
      "False\n",
      "True\n",
      "True\n"
     ]
    }
   ],
   "source": [
    "print(app[932][2])\n",
    "print(app[934][2])\n",
    "print(play_clean[4412][0])\n",
    "print(play_clean[7940][0])\n",
    "\n",
    "def check_english_char(a_string):\n",
    "    num_of_non_english = 0\n",
    "    \n",
    "    for ch in a_string:\n",
    "        unicode_num = ord(ch)\n",
    "        if unicode_num > 127:\n",
    "            num_of_non_english += 1\n",
    "            if num_of_non_english > 3:\n",
    "                return False\n",
    "        \n",
    "    return True\n",
    "\n",
    "print('\\n')\n",
    "print(check_english_char('Instagram'))\n",
    "print(check_english_char('爱奇艺PPS -《欢乐颂2》电视剧热播'))\n",
    "print(check_english_char('Docs To Go™ Free Office Suite'))\n",
    "print(check_english_char('Instachat 😜'))"
   ]
  },
  {
   "cell_type": "markdown",
   "metadata": {},
   "source": [
    "---\n",
    "\n",
    "**Part 2**\n",
    "\n",
    "After removing non-English apps, Apps Store list have **6183** apps remaining while Play Store list have **9614** apps left."
   ]
  },
  {
   "cell_type": "code",
   "execution_count": 9,
   "metadata": {},
   "outputs": [
    {
     "name": "stdout",
     "output_type": "stream",
     "text": [
      "After non-English removal, Apps Store list have 6183 entries.\n",
      "After non-English removal, Play Store list have 9614 entries.\n"
     ]
    }
   ],
   "source": [
    "cleaner_app = []\n",
    "cleaner_play = []\n",
    "\n",
    "for row in app:\n",
    "    name = row[2]\n",
    "    \n",
    "    if check_english_char(name):\n",
    "        cleaner_app.append(row)\n",
    "        \n",
    "for row in play_clean:\n",
    "    name = row[0]\n",
    "    \n",
    "    if check_english_char(name):\n",
    "        cleaner_play.append(row)\n",
    "        \n",
    "print(\"After non-English removal, Apps Store list have {} entries.\".format(len(cleaner_app)))\n",
    "print(\"After non-English removal, Play Store list have {} entries.\".format(len(cleaner_play)))"
   ]
  },
  {
   "cell_type": "markdown",
   "metadata": {},
   "source": [
    "---\n",
    "\n",
    "**Isolating Free Apps **\n",
    "\n",
    "**Part 1**\n",
    "\n",
    "* App Store have **3222** free apps.\n",
    "* Play Store have **8864** free apps.\n",
    "\n",
    "Last step is to isolate all the apps that are free in each data set. As mentioned in the beginning, we are looking for apps that has the most users and what are the common qualities these types of apps may have. The steps we are taking to validate our strategy are:\n",
    "1. Build an Android app and add it to Google Play Store.\n",
    "2. If there are good response from users, we continue to develope the app further.\n",
    "3. After 6 months and if the app is still profitable, we will also build an iOS version and add it to the Apple App Store.\n",
    "\n"
   ]
  },
  {
   "cell_type": "code",
   "execution_count": 10,
   "metadata": {},
   "outputs": [
    {
     "name": "stdout",
     "output_type": "stream",
     "text": [
      "Apps Store free apps have 3222 entries.\n",
      "Play Store free apps have 8864 entries.\n"
     ]
    }
   ],
   "source": [
    "cleanest_app = []\n",
    "cleanest_play = []\n",
    "\n",
    "for row in cleaner_app:\n",
    "    price = row[5]\n",
    "    \n",
    "    if price == '0':\n",
    "        cleanest_app.append(row)\n",
    "\n",
    "for row in cleaner_play:\n",
    "    price = row[7]\n",
    "    \n",
    "    if price == '0':\n",
    "        cleanest_play.append(row)        \n",
    "        \n",
    "print(\"Apps Store free apps have {} entries.\".format(len(cleanest_app)))\n",
    "print(\"Play Store free apps have {} entries.\".format(len(cleanest_play)))        "
   ]
  },
  {
   "cell_type": "markdown",
   "metadata": {},
   "source": [
    "**Part 2**\n",
    "\n",
    "One of the column in our data that is useful to achive our goal is the `Genre` column. Perhaps an Social Media or Arts & Design app attracts a large amount of users. To test this thoery, I will created some frequency tables.\n",
    "\n",
    "The two functions that will help us here are:\n",
    "* `freq_table()` - Given a data set and index / colum, count the frequency of each item in the column and return the percentage of each item.\n",
    "* `sorted_table()` - Give data set and index, retrieve the frequency percentage using frequency function, then sort and print each item from highest to lowest."
   ]
  },
  {
   "cell_type": "code",
   "execution_count": 11,
   "metadata": {
    "collapsed": true
   },
   "outputs": [],
   "source": [
    "def freq_table(dataset, index):\n",
    "    freq_dict = {}\n",
    "    \n",
    "    for row in dataset:\n",
    "        column_data = row[index]\n",
    "        \n",
    "        if column_data in freq_dict:\n",
    "            freq_dict[column_data] += 1\n",
    "        else:\n",
    "            freq_dict[column_data] = 1\n",
    "            \n",
    "    freq_percentage = {}\n",
    "    \n",
    "    for key in freq_dict:\n",
    "        percentage = (freq_dict[key] / len(dataset)) * 100\n",
    "        freq_percentage[key] = percentage\n",
    "            \n",
    "    return freq_percentage\n",
    "\n",
    "\n",
    "def sorted_table(dataset, index):\n",
    "    frequency_table = freq_table(dataset, index)\n",
    "    \n",
    "    table = sorted(frequency_table.items(), key=lambda items:items[1], reverse=True)\n",
    "    \n",
    "    for item in table:\n",
    "        print(item[0] + ':', item[1])\n",
    "        \n",
    "    return table\n",
    "        \n"
   ]
  },
  {
   "cell_type": "markdown",
   "metadata": {},
   "source": [
    "**Part 3**\n",
    "\n",
    "Apple App Store - Genre Column\n",
    "\n",
    "It seems the genre **Games** is the clear winner our Apple Apps Store data set making up 58.16% of all total apps. The running up **Entertainment** at 7.88%, followed by **Photo & Video** at 4.96%. At the bottom, **Catalogs**, **Medical**, **Navigation** and **Book** each make up of less than 0.5% of total apps.\n",
    "\n",
    "Although the **Games** genre has the most number of apps, it may not be true for the most number of users. Thus, based on only the data from types of apps below I am unable to recommend a profile for the type of iOS apps to create yet."
   ]
  },
  {
   "cell_type": "code",
   "execution_count": 12,
   "metadata": {},
   "outputs": [
    {
     "name": "stdout",
     "output_type": "stream",
     "text": [
      "Games: 58.16263190564867\n",
      "Entertainment: 7.883302296710118\n",
      "Photo & Video: 4.9658597144630665\n",
      "Education: 3.662321539416512\n",
      "Social Networking: 3.2898820608317814\n",
      "Shopping: 2.60707635009311\n",
      "Utilities: 2.5139664804469275\n",
      "Sports: 2.1415270018621975\n",
      "Music: 2.0484171322160147\n",
      "Health & Fitness: 2.0173805090006205\n",
      "Productivity: 1.7380509000620732\n",
      "Lifestyle: 1.5828677839851024\n",
      "News: 1.3345747982619491\n",
      "Travel: 1.2414649286157666\n",
      "Finance: 1.1173184357541899\n",
      "Weather: 0.8690254500310366\n",
      "Food & Drink: 0.8069522036002483\n",
      "Reference: 0.5586592178770949\n",
      "Business: 0.5276225946617008\n",
      "Book: 0.4345127250155183\n",
      "Navigation: 0.186219739292365\n",
      "Medical: 0.186219739292365\n",
      "Catalogs: 0.12414649286157665\n"
     ]
    }
   ],
   "source": [
    "app_genre = sorted_table(cleanest_app, 12)"
   ]
  },
  {
   "cell_type": "markdown",
   "metadata": {},
   "source": [
    "Google Play Store - Category Column\n",
    "\n",
    "From the Google Play Store, **FAMILY** category has the most number of apps at 18.9%. Followed by **GAME** at 9.72%, and **TOOLS** at 8.46%. At the bottom we can find **BEAUTY**, **COMICS**, and **ART_AND_DESIGN** at less than 1%.\n",
    "\n",
    "Although family friendly apps are dominating the Play Store, it is not as skewed like the App Store. Overall, the data is more spread out and balanced. The FAMILY category seems to be geared towards kids and some of those apps might fit into other categories such as GAMES, TOOLS, and LIFESTYLE. Thus, I am also unable to recommend an app profile to create for the Play Store based on this data alone."
   ]
  },
  {
   "cell_type": "code",
   "execution_count": 13,
   "metadata": {},
   "outputs": [
    {
     "name": "stdout",
     "output_type": "stream",
     "text": [
      "FAMILY: 18.907942238267147\n",
      "GAME: 9.724729241877256\n",
      "TOOLS: 8.461191335740072\n",
      "BUSINESS: 4.591606498194946\n",
      "LIFESTYLE: 3.9034296028880866\n",
      "PRODUCTIVITY: 3.892148014440433\n",
      "FINANCE: 3.7003610108303246\n",
      "MEDICAL: 3.531137184115524\n",
      "SPORTS: 3.395758122743682\n",
      "PERSONALIZATION: 3.3167870036101084\n",
      "COMMUNICATION: 3.2378158844765346\n",
      "HEALTH_AND_FITNESS: 3.0798736462093865\n",
      "PHOTOGRAPHY: 2.944494584837545\n",
      "NEWS_AND_MAGAZINES: 2.7978339350180503\n",
      "SOCIAL: 2.6624548736462095\n",
      "TRAVEL_AND_LOCAL: 2.33528880866426\n",
      "SHOPPING: 2.2450361010830324\n",
      "BOOKS_AND_REFERENCE: 2.1435018050541514\n",
      "DATING: 1.861462093862816\n",
      "VIDEO_PLAYERS: 1.7937725631768955\n",
      "MAPS_AND_NAVIGATION: 1.3989169675090252\n",
      "FOOD_AND_DRINK: 1.2409747292418771\n",
      "EDUCATION: 1.1620036101083033\n",
      "ENTERTAINMENT: 0.9589350180505415\n",
      "LIBRARIES_AND_DEMO: 0.9363718411552346\n",
      "AUTO_AND_VEHICLES: 0.9250902527075812\n",
      "HOUSE_AND_HOME: 0.8235559566787004\n",
      "WEATHER: 0.8009927797833934\n",
      "EVENTS: 0.7107400722021661\n",
      "PARENTING: 0.6543321299638989\n",
      "ART_AND_DESIGN: 0.6430505415162455\n",
      "COMICS: 0.6204873646209386\n",
      "BEAUTY: 0.5979241877256317\n"
     ]
    }
   ],
   "source": [
    "play_category = sorted_table(cleanest_play, 1)"
   ]
  },
  {
   "cell_type": "markdown",
   "metadata": {},
   "source": [
    "Google Play Store - Genre Column\n",
    "\n",
    "The genres data in the Google Play Store data set contains a very high number of categories. This is much more granular than the category data. As we do not need to be so detailed, we can ignore the genre data from the Google data set and just use the Category data for comparison."
   ]
  },
  {
   "cell_type": "code",
   "execution_count": 14,
   "metadata": {
    "scrolled": true
   },
   "outputs": [
    {
     "name": "stdout",
     "output_type": "stream",
     "text": [
      "Tools: 8.449909747292418\n",
      "Entertainment: 6.069494584837545\n",
      "Education: 5.347472924187725\n",
      "Business: 4.591606498194946\n",
      "Lifestyle: 3.892148014440433\n",
      "Productivity: 3.892148014440433\n",
      "Finance: 3.7003610108303246\n",
      "Medical: 3.531137184115524\n",
      "Sports: 3.463447653429603\n",
      "Personalization: 3.3167870036101084\n",
      "Communication: 3.2378158844765346\n",
      "Action: 3.1024368231046933\n",
      "Health & Fitness: 3.0798736462093865\n",
      "Photography: 2.944494584837545\n",
      "News & Magazines: 2.7978339350180503\n",
      "Social: 2.6624548736462095\n",
      "Travel & Local: 2.3240072202166067\n",
      "Shopping: 2.2450361010830324\n",
      "Books & Reference: 2.1435018050541514\n",
      "Simulation: 2.0419675090252705\n",
      "Dating: 1.861462093862816\n",
      "Arcade: 1.8501805054151623\n",
      "Video Players & Editors: 1.7712093862815883\n",
      "Casual: 1.7599277978339352\n",
      "Maps & Navigation: 1.3989169675090252\n",
      "Food & Drink: 1.2409747292418771\n",
      "Puzzle: 1.128158844765343\n",
      "Racing: 0.9927797833935018\n",
      "Libraries & Demo: 0.9363718411552346\n",
      "Role Playing: 0.9363718411552346\n",
      "Auto & Vehicles: 0.9250902527075812\n",
      "Strategy: 0.9138086642599278\n",
      "House & Home: 0.8235559566787004\n",
      "Weather: 0.8009927797833934\n",
      "Events: 0.7107400722021661\n",
      "Adventure: 0.6768953068592057\n",
      "Comics: 0.6092057761732852\n",
      "Art & Design: 0.5979241877256317\n",
      "Beauty: 0.5979241877256317\n",
      "Parenting: 0.4963898916967509\n",
      "Card: 0.45126353790613716\n",
      "Casino: 0.42870036101083037\n",
      "Trivia: 0.41741877256317694\n",
      "Educational;Education: 0.39485559566787\n",
      "Board: 0.3835740072202166\n",
      "Educational: 0.3722924187725632\n",
      "Education;Education: 0.33844765342960287\n",
      "Word: 0.2594765342960289\n",
      "Casual;Pretend Play: 0.236913357400722\n",
      "Music: 0.2030685920577617\n",
      "Entertainment;Music & Video: 0.16922382671480143\n",
      "Puzzle;Brain Games: 0.16922382671480143\n",
      "Racing;Action & Adventure: 0.16922382671480143\n",
      "Casual;Brain Games: 0.13537906137184114\n",
      "Casual;Action & Adventure: 0.13537906137184114\n",
      "Arcade;Action & Adventure: 0.12409747292418773\n",
      "Action;Action & Adventure: 0.10153429602888085\n",
      "Educational;Pretend Play: 0.09025270758122744\n",
      "Entertainment;Brain Games: 0.078971119133574\n",
      "Simulation;Action & Adventure: 0.078971119133574\n",
      "Board;Brain Games: 0.078971119133574\n",
      "Parenting;Education: 0.078971119133574\n",
      "Art & Design;Creativity: 0.06768953068592057\n",
      "Educational;Brain Games: 0.06768953068592057\n",
      "Casual;Creativity: 0.06768953068592057\n",
      "Parenting;Music & Video: 0.06768953068592057\n",
      "Education;Pretend Play: 0.056407942238267145\n",
      "Education;Creativity: 0.04512635379061372\n",
      "Role Playing;Pretend Play: 0.04512635379061372\n",
      "Education;Brain Games: 0.033844765342960284\n",
      "Entertainment;Creativity: 0.033844765342960284\n",
      "Educational;Creativity: 0.033844765342960284\n",
      "Adventure;Action & Adventure: 0.033844765342960284\n",
      "Role Playing;Action & Adventure: 0.033844765342960284\n",
      "Educational;Action & Adventure: 0.033844765342960284\n",
      "Entertainment;Action & Adventure: 0.033844765342960284\n",
      "Puzzle;Action & Adventure: 0.033844765342960284\n",
      "Education;Action & Adventure: 0.033844765342960284\n",
      "Education;Music & Video: 0.033844765342960284\n",
      "Casual;Education: 0.02256317689530686\n",
      "Music;Music & Video: 0.02256317689530686\n",
      "Simulation;Pretend Play: 0.02256317689530686\n",
      "Puzzle;Creativity: 0.02256317689530686\n",
      "Sports;Action & Adventure: 0.02256317689530686\n",
      "Board;Action & Adventure: 0.02256317689530686\n",
      "Entertainment;Pretend Play: 0.02256317689530686\n",
      "Video Players & Editors;Music & Video: 0.02256317689530686\n",
      "Comics;Creativity: 0.01128158844765343\n",
      "Lifestyle;Pretend Play: 0.01128158844765343\n",
      "Art & Design;Pretend Play: 0.01128158844765343\n",
      "Entertainment;Education: 0.01128158844765343\n",
      "Arcade;Pretend Play: 0.01128158844765343\n",
      "Art & Design;Action & Adventure: 0.01128158844765343\n",
      "Strategy;Action & Adventure: 0.01128158844765343\n",
      "Music & Audio;Music & Video: 0.01128158844765343\n",
      "Health & Fitness;Education: 0.01128158844765343\n",
      "Casual;Music & Video: 0.01128158844765343\n",
      "Travel & Local;Action & Adventure: 0.01128158844765343\n",
      "Tools;Education: 0.01128158844765343\n",
      "Parenting;Brain Games: 0.01128158844765343\n",
      "Video Players & Editors;Creativity: 0.01128158844765343\n",
      "Health & Fitness;Action & Adventure: 0.01128158844765343\n",
      "Trivia;Education: 0.01128158844765343\n",
      "Lifestyle;Education: 0.01128158844765343\n",
      "Card;Action & Adventure: 0.01128158844765343\n",
      "Books & Reference;Education: 0.01128158844765343\n",
      "Simulation;Education: 0.01128158844765343\n",
      "Puzzle;Education: 0.01128158844765343\n",
      "Adventure;Education: 0.01128158844765343\n",
      "Role Playing;Brain Games: 0.01128158844765343\n",
      "Strategy;Education: 0.01128158844765343\n",
      "Racing;Pretend Play: 0.01128158844765343\n",
      "Communication;Creativity: 0.01128158844765343\n",
      "Strategy;Creativity: 0.01128158844765343\n"
     ]
    }
   ],
   "source": [
    "play_genre = sorted_table(cleanest_play, 9)"
   ]
  },
  {
   "cell_type": "markdown",
   "metadata": {},
   "source": [
    "## Most Popular App by Genre on the App Store\n",
    "\n",
    "One way to find out what genres are the most popular (have the most users) is to calculate the average number of installs for each app genre. For the Google Play data set, we can find this information in the Installs column, but for the App Store data set this information is missing. As a workaround, we'll take the total number of user ratings as a proxy, which we can find in the `rating_count_tot` (column 12) app's data.\n",
    "\n",
    "Below, we calculate the average number of user ratings per app genre on the App Store:\n"
   ]
  },
  {
   "cell_type": "code",
   "execution_count": 15,
   "metadata": {},
   "outputs": [
    {
     "name": "stdout",
     "output_type": "stream",
     "text": [
      "Navigation : 86090.33333333333\n",
      "Reference : 74942.11111111111\n",
      "Social Networking : 71548.34905660378\n",
      "Music : 57326.530303030304\n",
      "Weather : 52279.892857142855\n",
      "Book : 39758.5\n",
      "Food & Drink : 33333.92307692308\n",
      "Finance : 31467.944444444445\n",
      "Photo & Video : 28441.54375\n",
      "Travel : 28243.8\n",
      "Shopping : 26919.690476190477\n",
      "Health & Fitness : 23298.015384615384\n",
      "Sports : 23008.898550724636\n",
      "Games : 22788.6696905016\n",
      "News : 21248.023255813954\n",
      "Productivity : 21028.410714285714\n",
      "Utilities : 18684.456790123455\n",
      "Lifestyle : 16485.764705882353\n",
      "Entertainment : 14029.830708661417\n",
      "Business : 7491.117647058823\n",
      "Education : 7003.983050847458\n",
      "Catalogs : 4004.0\n",
      "Medical : 612.0\n"
     ]
    }
   ],
   "source": [
    "app_store_genre = freq_table(cleanest_app, 12) # Frequency dictionary for which the keys are the genres\n",
    "genre_avg_table = {} # dictionary to store average number of ratings for each genre.\n",
    "\n",
    "# Nested for loop that goes through the data set for each genre and count total number of ratings and find average.\n",
    "for genre in app_store_genre:\n",
    "    total = 0       # Total number of ratings for the current genre.\n",
    "    len_genre = 0   # Total number of apps of current genre.\n",
    "    \n",
    "    for app in cleanest_app:\n",
    "        genre_app = app[12] # Name of app in current iteration of data set.\n",
    "        \n",
    "        if genre == genre_app:\n",
    "            total += float(app[6])\n",
    "            len_genre += 1\n",
    "\n",
    "    average = total / len_genre\n",
    "    \n",
    "    genre_avg_table[genre] = average\n",
    "\n",
    "for k, v in sorted(genre_avg_table.items(), key=lambda items:items[1], reverse=True):\n",
    "    print(k, ':', v)"
   ]
  },
  {
   "cell_type": "markdown",
   "metadata": {},
   "source": [
    "We will look at individual genre more closely by creating a function that will tell us how many installs or number of ratings for all apps of a specific genre in our data set.\n",
    "\n",
    "* `dataset` - list of list of a dataset.\n",
    "* `genre` - string of the genre type (Games, Navigation, Sports, etc) to look for.\n",
    "* `genre_column` - int column number where the genre is found in the inner list of the data set.\n",
    "* `name_column` - int column number where the name of the app is found in the inner list of the data set.\n",
    "* `count_column` - int coumn number where the number of rating or installs is fount in the inner list of the data set."
   ]
  },
  {
   "cell_type": "code",
   "execution_count": 16,
   "metadata": {
    "collapsed": true
   },
   "outputs": [],
   "source": [
    "def genre_count(dataset, genre, genre_column, name_column, count_column):\n",
    "    genre_count = {}\n",
    "    \n",
    "    for row in dataset:\n",
    "        if row[genre_column] == genre:\n",
    "            genre_count[row[name_column]] = int(row[count_column].replace('+', '').replace(',', ''))\n",
    "            \n",
    "    return genre_count"
   ]
  },
  {
   "cell_type": "markdown",
   "metadata": {},
   "source": [
    "On average, **Navigation** apps have the highest number of user reviews, but this figure is heavily influenced by Waze and Google Maps, which have close to half a million user reviews together:"
   ]
  },
  {
   "cell_type": "code",
   "execution_count": 17,
   "metadata": {},
   "outputs": [
    {
     "name": "stdout",
     "output_type": "stream",
     "text": [
      "Waze - GPS Navigation, Maps & Real-time Traffic : 345,046\n",
      "Google Maps - Navigation & Transit : 154,911\n",
      "Geocaching® : 12,811\n",
      "CoPilot GPS – Car Navigation & Offline Maps : 3,582\n",
      "ImmobilienScout24: Real Estate Search in Germany : 187\n",
      "Railway Route Search : 5\n"
     ]
    }
   ],
   "source": [
    "nav_app = genre_count(cleanest_app, 'Navigation', 12, 2, 6)\n",
    "\n",
    "for k, v in sorted(nav_app.items(), key=lambda items: items[1], reverse=True):\n",
    "    print(k, ':', f'{v:,}')"
   ]
  },
  {
   "cell_type": "markdown",
   "metadata": {},
   "source": [
    "Our aim is to find popular genres, but navigation, social networking or music apps might seem more popular than they really are. The average number of ratings seem to be skewed by very few apps which have hundreds of thousands of user ratings, while the other apps may struggle to get past the 10,000 threshold. We could get a better picture by removing these extremely popular apps for each genre and then rework the averages, but we'll leave this level of detail for later.\n",
    "\n",
    "**Reference** apps have 74,942 user ratings on average, but it's actually the Bible and Dictionary.com which skew up the average rating:\n"
   ]
  },
  {
   "cell_type": "code",
   "execution_count": 18,
   "metadata": {},
   "outputs": [
    {
     "name": "stdout",
     "output_type": "stream",
     "text": [
      "Bible : 985,920\n",
      "Dictionary.com Dictionary & Thesaurus : 200,047\n",
      "Dictionary.com Dictionary & Thesaurus for iPad : 54,175\n",
      "Google Translate : 26,786\n",
      "Muslim Pro: Ramadan 2017 Prayer Times, Azan, Quran : 18,418\n",
      "New Furniture Mods - Pocket Wiki & Game Tools for Minecraft PC Edition : 17,588\n",
      "Merriam-Webster Dictionary : 16,849\n",
      "Night Sky : 12,122\n",
      "City Maps for Minecraft PE - The Best Maps for Minecraft Pocket Edition (MCPE) : 8,535\n",
      "LUCKY BLOCK MOD ™ for Minecraft PC Edition - The Best Pocket Wiki & Mods Installer Tools : 4,693\n",
      "GUNS MODS for Minecraft PC Edition - Mods Tools : 1,497\n",
      "Guides for Pokémon GO - Pokemon GO News and Cheats : 826\n",
      "WWDC : 762\n",
      "Horror Maps for Minecraft PE - Download The Scariest Maps for Minecraft Pocket Edition (MCPE) Free : 718\n",
      "VPN Express : 14\n",
      "Real Bike Traffic Rider Virtual Reality Glasses : 8\n",
      "Jishokun-Japanese English Dictionary & Translator : 0\n",
      "教えて!goo : 0\n"
     ]
    }
   ],
   "source": [
    "nav_app = genre_count(cleanest_app, 'Reference', 12, 2, 6)\n",
    "\n",
    "for k, v in sorted(nav_app.items(), key=lambda items: items[1], reverse=True):\n",
    "    print(k, ':', f'{v:,}')"
   ]
  },
  {
   "cell_type": "markdown",
   "metadata": {},
   "source": [
    "The same pattern applies to **social networking apps**, where the average number is heavily influenced by a few giants like Facebook, Pinterest, Skype, etc. Same applies to music apps, where a few big players like Pandora, Spotify, and Shazam heavily influence the average number."
   ]
  },
  {
   "cell_type": "code",
   "execution_count": 19,
   "metadata": {},
   "outputs": [
    {
     "name": "stdout",
     "output_type": "stream",
     "text": [
      "Facebook : 2,974,676\n",
      "Pinterest : 1,061,624\n",
      "Skype for iPhone : 373,519\n",
      "Messenger : 351,466\n",
      "Tumblr : 334,293\n",
      "WhatsApp Messenger : 287,589\n",
      "Kik : 260,965\n",
      "ooVoo – Free Video Call, Text and Voice : 177,501\n",
      "TextNow - Unlimited Text + Calls : 164,963\n",
      "Viber Messenger – Text & Call : 164,249\n",
      "Followers - Social Analytics For Instagram : 112,778\n",
      "MeetMe - Chat and Meet New People : 97,072\n",
      "We Heart It - Fashion, wallpapers, quotes, tattoos : 90,414\n",
      "InsTrack for Instagram - Analytics Plus More : 85,535\n",
      "Tango - Free Video Call, Voice and Chat : 75,412\n",
      "LinkedIn : 71,856\n",
      "Match™ - #1 Dating App. : 60,659\n",
      "Skype for iPad : 60,163\n",
      "POF - Best Dating App for Conversations : 52,642\n",
      "Timehop : 49,510\n",
      "Find My Family, Friends & iPhone - Life360 Locator : 43,877\n",
      "Whisper - Share, Express, Meet : 39,819\n",
      "Hangouts : 36,404\n",
      "LINE PLAY - Your Avatar World : 34,677\n",
      "WeChat : 34,584\n",
      "Badoo - Meet New People, Chat, Socialize. : 34,428\n",
      "Followers + for Instagram - Follower Analytics : 28,633\n",
      "GroupMe : 28,260\n",
      "Marco Polo Video Walkie Talkie : 27,662\n",
      "Miitomo : 23,965\n",
      "SimSimi : 23,530\n",
      "Grindr - Gay and same sex guys chat, meet and date : 23,201\n",
      "Wishbone - Compare Anything : 20,649\n",
      "imo video calls and chat : 18,841\n",
      "After School - Funny Anonymous School News : 18,482\n",
      "Quick Reposter - Repost, Regram and Reshare Photos : 17,694\n",
      "Weibo HD : 16,772\n",
      "Repost for Instagram : 15,185\n",
      "Live.me – Live Video Chat & Make Friends Nearby : 14,724\n",
      "Nextdoor : 14,402\n",
      "Followers Analytics for Instagram - InstaReport : 13,914\n",
      "YouNow: Live Stream Video Chat : 12,079\n",
      "FollowMeter for Instagram - Followers Tracking : 11,976\n",
      "LINE : 11,437\n",
      "eHarmony™ Dating App - Meet Singles : 11,124\n",
      "Discord - Chat for Gamers : 9,152\n",
      "QQ : 9,109\n",
      "Telegram Messenger : 7,573\n",
      "Weibo : 7,265\n",
      "Periscope - Live Video Streaming Around the World : 6,062\n",
      "Chat for Whatsapp - iPad Version : 5,060\n",
      "QQ HD : 5,058\n",
      "Followers Analysis Tool For Instagram App Free : 4,253\n",
      "live.ly - live video streaming : 4,145\n",
      "Houseparty - Group Video Chat : 3,991\n",
      "SOMA Messenger : 3,232\n",
      "Monkey : 3,060\n",
      "Down To Lunch : 2,535\n",
      "Flinch - Video Chat Staring Contest : 2,134\n",
      "Highrise - Your Avatar Community : 2,011\n",
      "LOVOO - Dating Chat : 1,985\n",
      "PlayStation®Messages : 1,918\n",
      "BOO! - Video chat camera with filters & stickers : 1,805\n",
      "Qzone : 1,649\n",
      "Chatous - Chat with new people : 1,609\n",
      "Kiwi - Q&A : 1,538\n",
      "GhostCodes - a discovery app for Snapchat : 1,313\n",
      "Jodel : 1,193\n",
      "FireChat : 1,037\n",
      "Google Duo - simple video calling : 1,033\n",
      "Fiesta by Tango - Chat & Meet New People : 885\n",
      "Google Allo — smart messaging : 862\n",
      "Peach — share vividly : 727\n",
      "Hey! VINA - Where Women Meet New Friends : 719\n",
      "Battlefield™ Companion : 689\n",
      "All Devices for WhatsApp - Messenger for iPad : 682\n",
      "Chat for Pokemon Go - GoChat : 500\n",
      "IAmNaughty – Dating App to Meet New People Online : 463\n",
      "Qzone HD : 458\n",
      "Zenly - Locate your friends in realtime : 427\n",
      "League of Legends Friends : 420\n",
      "豆瓣 : 407\n",
      "Candid - Speak Your Mind Freely : 398\n",
      "知乎 : 397\n",
      "Selfeo : 366\n",
      "Fake-A-Location Free ™ : 354\n",
      "Popcorn Buzz - Free Group Calls : 281\n",
      "Fam — Group video calling for iMessage : 279\n",
      "QQ International : 274\n",
      "Ameba : 269\n",
      "SoundCloud Pulse: for creators : 240\n",
      "Tantan : 235\n",
      "Cougar Dating & Life Style App for Mature Women : 213\n",
      "Rawr Messenger - Dab your chat : 180\n",
      "WhenToPost: Best Time to Post Photos for Instagram : 158\n",
      "Inke—Broadcast an amazing life : 147\n",
      "Mustknow - anonymous video Q&A : 53\n",
      "CTFxCmoji : 39\n",
      "Lobi : 36\n",
      "Chain: Collaborate On MyVideo Story/Group Video : 35\n",
      "botman - Real time video chat : 7\n",
      "BestieBox : 0\n",
      "MATCH ON LINE chat : 0\n",
      "bit-tube - Live Stream Video Chat : 0\n",
      "niconico ch : 0\n",
      "LINE BLOG : 0\n"
     ]
    }
   ],
   "source": [
    "nav_app = genre_count(cleanest_app, 'Social Networking', 12, 2, 6)\n",
    "\n",
    "for k, v in sorted(nav_app.items(), key=lambda items: items[1], reverse=True):\n",
    "    print(k, ':', f'{v:,}')"
   ]
  },
  {
   "cell_type": "markdown",
   "metadata": {},
   "source": [
    "**Summary of App Store**\n",
    "\n",
    "\n",
    "\n",
    "However, this niche seems to show some potential. One thing we could do is take another popular book and turn it into an app where we could add different features besides the raw version of the book. This might include daily quotes from the book, an audio version of the book, quizzes about the book, etc. On top of that, we could also embed a dictionary within the app, so users don't need to exit our app to look up words in an external app.\n",
    "\n",
    "This idea seems to fit well with the fact that the App Store is dominated by for-fun apps. This suggests the market might be a bit saturated with for-fun apps, which means a practical app might have more of a chance to stand out among the huge number of apps on the App Store.\n",
    "\n",
    "Other genres that seem popular include weather, book, food and drink, or finance. The book genre seem to overlap a bit with the app idea we described above, but the other genres don't seem too interesting to us:\n",
    "\n",
    "* Weather apps — people generally don't spend too much time in-app, and the chances of making profit from in-app adds are low. Also, getting reliable live weather data may require us to connect our apps to non-free APIs.\n",
    "\n",
    "* Food and drink — examples here include Starbucks, Dunkin' Donuts, McDonald's, etc. So making a popular food and drink app requires actual cooking and a delivery service, which is outside the scope of our company.\n",
    "\n",
    "* Finance apps — these apps involve banking, paying bills, money transfer, etc. Building a finance app requires domain knowledge, and we don't want to hire a finance expert just to build an app.\n",
    "\n",
    "Now let's analyze the Google Play market a bit."
   ]
  },
  {
   "cell_type": "markdown",
   "metadata": {},
   "source": [
    "## Most Popular Apps by Genre on Google Play\n",
    "\n",
    "For the Google Play market, we actually have data about the number of installs, so we should be able to get a clearer picture about genre popularity. However, the install numbers don't seem precise enough — we can see that most values are open-ended (100+, 1,000+, 5,000+, etc.).\n",
    "\n",
    "One problem with this data is that is not precise. For instance, we don't know whether an app with 100,000+ installs has 100,000 installs, 200,000, or 350,000. However, we don't need very precise data for our purposes — we only want to get an idea which app genres attract the most users, and we don't need perfect precision with respect to the number of users.\n",
    "\n",
    "We're going to leave the numbers as they are, which means that we'll consider that an app with 100,000+ installs has 100,000 installs, and an app with 1,000,000+ installs has 1,000,000 installs, and so on."
   ]
  },
  {
   "cell_type": "code",
   "execution_count": 20,
   "metadata": {},
   "outputs": [
    {
     "name": "stdout",
     "output_type": "stream",
     "text": [
      "1,000,000+: 15.726534296028879\n",
      "100,000+: 11.552346570397113\n",
      "10,000,000+: 10.548285198555957\n",
      "10,000+: 10.198555956678701\n",
      "1,000+: 8.393501805054152\n",
      "100+: 6.915613718411552\n",
      "5,000,000+: 6.825361010830325\n",
      "500,000+: 5.561823104693141\n",
      "50,000+: 4.7721119133574\n",
      "5,000+: 4.512635379061372\n",
      "10+: 3.5424187725631766\n",
      "500+: 3.2490974729241873\n",
      "50,000,000+: 2.3014440433213\n",
      "100,000,000+: 2.1322202166064983\n",
      "50+: 1.917870036101083\n",
      "5+: 0.78971119133574\n",
      "1+: 0.5076714801444043\n",
      "500,000,000+: 0.2707581227436823\n",
      "1,000,000,000+: 0.22563176895306858\n",
      "0+: 0.04512635379061372\n",
      "0: 0.01128158844765343\n"
     ]
    }
   ],
   "source": [
    "play_installs = sorted_table(cleanest_play, 5)"
   ]
  },
  {
   "cell_type": "markdown",
   "metadata": {},
   "source": [
    "To perform computations, however, we'll need to convert each install number to float — this means that we need to remove the commas and the plus characters, otherwise the conversion will fail and raise an error. We'll do this directly in the loop below, where we also compute the average number of installs for each genre (category)."
   ]
  },
  {
   "cell_type": "code",
   "execution_count": 21,
   "metadata": {},
   "outputs": [
    {
     "name": "stdout",
     "output_type": "stream",
     "text": [
      "COMMUNICATION : 38,456,119.167247385\n",
      "VIDEO_PLAYERS : 24,727,872.452830188\n",
      "SOCIAL : 23,253,652.127118643\n",
      "PHOTOGRAPHY : 17,840,110.40229885\n",
      "PRODUCTIVITY : 16,787,331.344927534\n",
      "GAME : 15,588,015.603248259\n",
      "TRAVEL_AND_LOCAL : 13,984,077.710144928\n",
      "ENTERTAINMENT : 11,640,705.88235294\n",
      "TOOLS : 10,801,391.298666667\n",
      "NEWS_AND_MAGAZINES : 9,549,178.467741935\n",
      "BOOKS_AND_REFERENCE : 8,767,811.894736841\n",
      "SHOPPING : 7,036,877.311557789\n",
      "PERSONALIZATION : 5,201,482.6122448975\n",
      "WEATHER : 5,074,486.197183099\n",
      "HEALTH_AND_FITNESS : 4,188,821.9853479853\n",
      "MAPS_AND_NAVIGATION : 4,056,941.7741935486\n",
      "FAMILY : 3,695,641.8198090694\n",
      "SPORTS : 3,638,640.1428571427\n",
      "ART_AND_DESIGN : 1,986,335.0877192982\n",
      "FOOD_AND_DRINK : 1,924,897.7363636363\n",
      "EDUCATION : 1,833,495.145631068\n",
      "BUSINESS : 1,712,290.1474201474\n",
      "LIFESTYLE : 1,437,816.2687861272\n",
      "FINANCE : 1,387,692.475609756\n",
      "HOUSE_AND_HOME : 1,331,540.5616438356\n",
      "DATING : 854,028.8303030303\n",
      "COMICS : 817,657.2727272727\n",
      "AUTO_AND_VEHICLES : 647,317.8170731707\n",
      "LIBRARIES_AND_DEMO : 638,503.734939759\n",
      "PARENTING : 542,603.6206896552\n",
      "BEAUTY : 513,151.88679245283\n",
      "EVENTS : 253,542.22222222222\n",
      "MEDICAL : 120,550.61980830671\n"
     ]
    }
   ],
   "source": [
    "play_category = freq_table(cleanest_play, 1) # Although this gives us percentage, all we need is just the unique keys.\n",
    "\n",
    "play_category_table = {}\n",
    "\n",
    "for app in play_category:\n",
    "    len_app = 0\n",
    "    total_app_installs = 0\n",
    "    \n",
    "    for row in cleanest_play:\n",
    "        app_name = row[1]\n",
    "        \n",
    "        if app == app_name:\n",
    "            len_app += 1\n",
    "            installs = float(row[5].replace('+', '').replace(',', ''))\n",
    "            total_app_installs += installs\n",
    "            \n",
    "    average = total_app_installs / len_app\n",
    "    play_category_table[app] = average\n",
    "    \n",
    "for k, v in sorted(play_category_table.items(), key=lambda items: items[1], reverse=True):\n",
    "    print(k, ':', f'{v:,}')"
   ]
  },
  {
   "cell_type": "markdown",
   "metadata": {},
   "source": [
    "On average, communication apps have the most installs: 38,456,119. This number is heavily skewed up by a few apps that have over one billion installs (WhatsApp, Facebook Messenger, Skype, Google Chrome, Gmail, and Hangouts), and a few others with over 100 and 500 million installs:"
   ]
  },
  {
   "cell_type": "code",
   "execution_count": 22,
   "metadata": {},
   "outputs": [
    {
     "name": "stdout",
     "output_type": "stream",
     "text": [
      "WhatsApp Messenger : 1,000,000,000\n",
      "Messenger – Text and Video Chat for Free : 1,000,000,000\n",
      "Skype - free IM & video calls : 1,000,000,000\n",
      "Google Chrome: Fast & Secure : 1,000,000,000\n",
      "Gmail : 1,000,000,000\n",
      "Hangouts : 1,000,000,000\n",
      "Google Duo - High Quality Video Calls : 500,000,000\n",
      "imo free video calls and chat : 500,000,000\n",
      "LINE: Free Calls & Messages : 500,000,000\n",
      "UC Browser - Fast Download Private & Secure : 500,000,000\n",
      "Viber Messenger : 500,000,000\n",
      "imo beta free calls and text : 100,000,000\n",
      "Android Messages : 100,000,000\n",
      "Who : 100,000,000\n",
      "GO SMS Pro - Messenger, Free Themes, Emoji : 100,000,000\n",
      "Firefox Browser fast & private : 100,000,000\n",
      "Messenger Lite: Free Calls & Messages : 100,000,000\n",
      "Kik : 100,000,000\n",
      "KakaoTalk: Free Calls & Text : 100,000,000\n",
      "Opera Mini - fast web browser : 100,000,000\n",
      "Opera Browser: Fast and Secure : 100,000,000\n",
      "Telegram : 100,000,000\n",
      "Truecaller: Caller ID, SMS spam blocking & Dialer : 100,000,000\n",
      "UC Browser Mini -Tiny Fast Private & Secure : 100,000,000\n",
      "WeChat : 100,000,000\n",
      "Yahoo Mail – Stay Organized : 100,000,000\n",
      "BBM - Free Calls & Messages : 100,000,000\n"
     ]
    }
   ],
   "source": [
    "com_app = genre_count(cleanest_play, 'COMMUNICATION', 1, 0, 5)\n",
    "\n",
    "for k, v in sorted(com_app.items(), key=lambda items: items[1], reverse=True):\n",
    "    if v >= 100_000_000:\n",
    "        print(k, ':', f'{v:,}')\n"
   ]
  },
  {
   "cell_type": "markdown",
   "metadata": {},
   "source": [
    "If we removed all the communication apps that have over 100 million installs, the average would be reduced roughly ten times:"
   ]
  },
  {
   "cell_type": "code",
   "execution_count": 23,
   "metadata": {},
   "outputs": [
    {
     "name": "stdout",
     "output_type": "stream",
     "text": [
      "Average installs per app for COMMUNICATION apps that are under 100 millions installs: 3603485.3884615386\n"
     ]
    }
   ],
   "source": [
    "under_100m_total = 0\n",
    "under_100m_num_app = 0\n",
    "\n",
    "for app, installs in com_app.items():\n",
    "    if installs < 100_000_000:\n",
    "        under_100m_total += installs\n",
    "        under_100m_num_app += 1\n",
    "\n",
    "average = under_100m_total / under_100m_num_app\n",
    "\n",
    "print('Average installs per app for COMMUNICATION apps that are under 100 millions installs:', average)\n"
   ]
  },
  {
   "cell_type": "markdown",
   "metadata": {},
   "source": [
    "**Further Analysis**\n",
    "\n",
    "We see the same pattern for the video players category, which is the runner-up with 24,727,872 installs. The market is dominated by apps like Youtube, Google Play Movies & TV, or MX Player. The pattern is repeated for social apps (where we have giants like Facebook, Instagram, Google+, etc.), photography apps (Google Photos and other popular photo editors), or productivity apps (Microsoft Word, Dropbox, Google Calendar, Evernote, etc.).\n",
    "\n",
    "Again, the main concern is that these app genres might seem more popular than they really are. Moreover, these niches seem to be dominated by a few giants who are hard to compete against.\n",
    "\n",
    "The game genre seems pretty popular, but previously we found out this part of the market seems a bit saturated, so we'd like to come up with a different app recommendation if possible.\n",
    "\n",
    "The books and reference genre looks fairly popular as well, with an average number of installs of 8,767,811. It's interesting to explore this in more depth, since we found this genre has some potential to work well on the App Store, and our aim is to recommend an app genre that shows potential for being profitable on both the App Store and Google Play.\n",
    "\n",
    "Let's take a look at some of the apps from this genre and their number of installs:\n"
   ]
  },
  {
   "cell_type": "code",
   "execution_count": null,
   "metadata": {
    "collapsed": true
   },
   "outputs": [],
   "source": []
  },
  {
   "cell_type": "code",
   "execution_count": 24,
   "metadata": {},
   "outputs": [
    {
     "name": "stdout",
     "output_type": "stream",
     "text": [
      "Google Play Books : 1,000,000,000\n",
      "Bible : 100,000,000\n",
      "Amazon Kindle : 100,000,000\n",
      "Wattpad 📖 Free Books : 100,000,000\n",
      "Audiobooks from Audible : 100,000,000\n",
      "Wikipedia : 10,000,000\n",
      "Cool Reader : 10,000,000\n",
      "FBReader: Favorite Book Reader : 10,000,000\n",
      "HTC Help : 10,000,000\n",
      "Moon+ Reader : 10,000,000\n",
      "Aldiko Book Reader : 10,000,000\n",
      "Al-Quran (Free) : 10,000,000\n",
      "Al Quran Indonesia : 10,000,000\n",
      "Al'Quran Bahasa Indonesia : 10,000,000\n",
      "Quran for Android : 10,000,000\n",
      "Dictionary.com: Find Definitions for English Words : 10,000,000\n",
      "English Dictionary - Offline : 10,000,000\n",
      "NOOK: Read eBooks & Magazines : 10,000,000\n",
      "Dictionary : 10,000,000\n",
      "Spanish English Translator : 10,000,000\n",
      "Dictionary - Merriam-Webster : 10,000,000\n",
      "JW Library : 10,000,000\n",
      "Oxford Dictionary of English : Free : 10,000,000\n",
      "English Hindi Dictionary : 10,000,000\n",
      "AlReader -any text book reader : 5,000,000\n",
      "Ebook Reader : 5,000,000\n",
      "Read books online : 5,000,000\n",
      "Ancestry : 5,000,000\n",
      "Dictionary - WordWeb : 5,000,000\n",
      "50000 Free eBooks & Free AudioBooks : 5,000,000\n",
      "Al Quran : EAlim - Translations & MP3 Offline : 5,000,000\n",
      "Bible KJV : 5,000,000\n",
      "English to Hindi Dictionary : 5,000,000\n",
      "Book store : 1,000,000\n",
      "Free Books - Spirit Fanfiction and Stories : 1,000,000\n",
      "FamilySearch Tree : 1,000,000\n",
      "Cloud of Books : 1,000,000\n",
      "ReadEra – free ebook reader : 1,000,000\n",
      "eBoox: book reader fb2 epub zip : 1,000,000\n",
      "All Maths Formulas : 1,000,000\n",
      "English-Myanmar Dictionary : 1,000,000\n",
      "Golden Dictionary (EN-AR) : 1,000,000\n",
      "All Language Translator Free : 1,000,000\n",
      "Al Quran Al karim : 1,000,000\n",
      "Koran Read &MP3 30 Juz Offline : 1,000,000\n",
      "Hafizi Quran 15 lines per page : 1,000,000\n",
      "Satellite AR : 1,000,000\n",
      "Oxford A-Z of English Usage : 1,000,000\n",
      "Brilliant Quotes: Life, Love, Family & Motivation : 1,000,000\n",
      "Stats Royale for Clash Royale : 1,000,000\n",
      "wikiHow: how to do anything : 1,000,000\n",
      "EGW Writings : 1,000,000\n",
      "My Little Pony AR Guide : 1,000,000\n",
      "English Grammar Complete Handbook : 500,000\n",
      "Offline: English to Tagalog Dictionary : 500,000\n",
      "Recipes of Prophetic Medicine for free : 500,000\n",
      "English to Urdu Dictionary : 500,000\n",
      "English Persian Dictionary : 500,000\n",
      "Flybook : 500,000\n",
      "Only 30 days in English, the guideline is guaranteed : 500,000\n",
      "Azpen eReader : 500,000\n",
      "Google I/O 2018 : 500,000\n",
      "Al Quran (Tafsir & by Word) : 500,000\n",
      "Al-Quran 30 Juz free copies : 500,000\n",
      "Youboox - Livres, BD et magazines : 500,000\n",
      "NOOK Audiobooks : 500,000\n",
      "NOOK App for NOOK Devices : 500,000\n",
      "SDA Sabbath School Quarterly : 500,000\n",
      "Golden Dictionary (FR-AR) : 500,000\n",
      "Download free book with green book : 100,000\n",
      "Free Panda Radio Music : 100,000\n",
      "Offline English Dictionary : 100,000\n",
      "Litnet - E-books : 100,000\n",
      "English translation from Bengali : 100,000\n",
      "Pdf Book Download - Read Pdf Book : 100,000\n",
      "Free Book Reader : 100,000\n",
      "URBANO V 02 instruction manual : 100,000\n",
      "Aab e Hayat Full Novel : 100,000\n",
      "V Made : 100,000\n",
      "Guide (for X-MEN) : 100,000\n",
      "Surah Al-Waqiah : 100,000\n",
      "Hisnul Al Muslim - Hisn Invocations & Adhkaar : 100,000\n",
      "cloudLibrary : 100,000\n",
      "Sabbath School : 100,000\n",
      "How to Write CV : 100,000\n",
      "EGW Writings 2 : 100,000\n",
      "Bible with EGW Comments : 100,000\n",
      "Hymnes et Louanges : 100,000\n",
      "BakaReader EX : 100,000\n",
      "E-Book Read - Read Book for free : 50,000\n",
      "eBoox new: Reader for fb2 epub zip books : 50,000\n",
      "SH-02J Owner's Manual (Android 8.0) : 50,000\n",
      "C Programs and Reference : 50,000\n",
      "C Programs Handbook : 50,000\n",
      "Fertilizer Removal By Crop : 50,000\n",
      "Al-Muhaffiz : 50,000\n",
      "Bible du Semeur-BDS (French) : 50,000\n",
      "La citadelle du musulman : 50,000\n",
      "DV 2019 - EDV Photo & Form : 50,000\n",
      "EZ Quran : 50,000\n",
      "Anonymous caller detection : 10,000\n",
      "R Language Reference Guide : 10,000\n",
      "Ae Allah na Dai (Rasa) : 10,000\n",
      "Ag PhD Field Guide : 10,000\n",
      "Ag PhD Deficiencies : 10,000\n",
      "Kinot & Eichah for Tisha B'Av : 10,000\n",
      "Ay Hasnain k Nana Milad Naat : 10,000\n",
      "Ay Mohabbat Teri Khatir Novel : 10,000\n",
      "BD All Sim Offer : 10,000\n",
      "B&H Kids AR : 10,000\n",
      "Borneo Bible, BM Bible : 10,000\n",
      "BR Ambedkar Biography & Quotes : 10,000\n",
      "Kristian Hla Bu : 10,000\n",
      "Bootable Methods(USB-CD-DVD) : 10,000\n",
      "Easy Cv maker 2018 : 10,000\n",
      "Guide for DB Xenoverse : 10,000\n",
      "Guide for DB Xenoverse 2 : 10,000\n",
      "DM Screen : 10,000\n",
      "DV 2019 Entry Guide : 10,000\n",
      "TN Patta Citta & EC : 10,000\n",
      "AP Stamps and Registration : 10,000\n",
      "English To Shona Dictionary : 10,000\n",
      "Bulgarian French Dictionary Fr : 10,000\n",
      "Learn R Programming Full : 5,000\n",
      "AC Air condition Troubleshoot,Repair,Maintenance : 5,000\n",
      "AW Tozer Devotionals - Daily : 5,000\n",
      "AY Sing : 5,000\n",
      "B y H Niños ES : 5,000\n",
      "Browsery by Barnes & Noble : 5,000\n",
      "CA Laws 2018 (California Laws and Codes) : 5,000\n",
      "Learn CT Scan Of Head : 5,000\n",
      "DC HSEMA : 5,000\n",
      "Bilingual Dictionary Audio App : 5,000\n",
      "EC - AP & Telangana : 5,000\n",
      "Duaa Ek Ibaadat : 5,000\n",
      "FA Part 1 & 2 Past Papers Solved Free – Offline : 5,000\n",
      "Fanfic-FR : 5,000\n",
      "C Offline Tutorial : 1,000\n",
      "R Programing Offline Tutorial : 1,000\n",
      "R Quick Reference Big Data : 1,000\n",
      "AE Bulletins : 1,000\n",
      "Ag PhD Planting Population Calculator : 1,000\n",
      "Ag PhD Soybean Diseases : 1,000\n",
      "Tozer Devotional -Series 1 : 1,000\n",
      "The Pursuit of God : 1,000\n",
      "Arizona Statutes, ARS (AZ Law) : 1,000\n",
      "BD Fishpedia : 1,000\n",
      "BM Box : 1,000\n",
      "bp e-store : 1,000\n",
      "SA HLA BU : 1,000\n",
      "CW Nuclear : 1,000\n",
      "DC Public Library : 1,000\n",
      "Painting Lulu DC Super Friends : 1,000\n",
      "Fix Error Google Playstore : 1,000\n",
      "D. H. Lawrence Poems FREE : 1,000\n",
      "Dr. Doug's Tips : 1,000\n",
      "DV 2018 Winners Guide : 1,000\n",
      "EB Annual Meetings : 1,000\n",
      "EP Research Service : 1,000\n",
      "EU Charter : 1,000\n",
      "EU Data Protection : 1,000\n",
      "La Fe de Jesus : 1,000\n",
      "Florida - Pocket Brainbook : 1,000\n",
      "Florida Statutes (FL Code) : 1,000\n",
      "Greek Bible FP (Audio) : 1,000\n",
      "Chemin (fr) : 1,000\n",
      "The SCP Foundation DB fr nn5n : 1,000\n",
      "Catholic La Bu Zo Kam : 500\n",
      "Learn SAP BW : 500\n",
      "Learn SAP BW on HANA : 500\n",
      "SDA Collegiate Quarterly : 500\n",
      "Modlitební knížka CZ : 500\n",
      "La Fe de Jesús : 500\n",
      "Le Fe de Jesus : 500\n",
      "MOD Black for BM : 100\n",
      "Anime Mod for BM : 100\n",
      "BU Alsace : 100\n",
      "Cypress College Library : 100\n",
      "CompactiMa EC pH Calibration : 100\n",
      "EU IP Codes : 100\n",
      "A-J Media Vault : 50\n",
      "GATE 21 years CS Papers(2011-2018 Solved) : 50\n",
      "Learn R Programming : 10\n",
      "Khrifa Hla Bu (Solfa) : 10\n",
      "CY Spray nozzle : 10\n",
      "Guide for IMS DB : 10\n",
      "Guide for R Programming : 5\n",
      "BibleRead En Cy Zh Yue : 5\n",
      "CZ-Help : 5\n",
      "EW PDF : 5\n"
     ]
    }
   ],
   "source": [
    "com_app = genre_count(cleanest_play, 'BOOKS_AND_REFERENCE', 1, 0, 5)\n",
    "\n",
    "for k, v in sorted(com_app.items(), key=lambda items: items[1], reverse=True):\n",
    "    print(k, ':', f'{v:,}')"
   ]
  },
  {
   "cell_type": "markdown",
   "metadata": {
    "collapsed": true
   },
   "source": [
    "The book and reference genre includes a variety of apps: software for processing and reading ebooks, various collections of libraries, dictionaries, tutorials on programming or languages, etc. It seems there's still a small number of extremely popular apps that skew the average:"
   ]
  },
  {
   "cell_type": "code",
   "execution_count": 29,
   "metadata": {},
   "outputs": [
    {
     "name": "stdout",
     "output_type": "stream",
     "text": [
      "Google Play Books : 1,000,000,000\n",
      "Bible : 100,000,000\n",
      "Amazon Kindle : 100,000,000\n",
      "Wattpad 📖 Free Books : 100,000,000\n",
      "Audiobooks from Audible : 100,000,000\n"
     ]
    }
   ],
   "source": [
    "for k, v in sorted(com_app.items(), key=lambda items: items[1], reverse=True):\n",
    "    if v >= 100_000_000:\n",
    "        print(k, ':', f'{v:,}')"
   ]
  },
  {
   "cell_type": "markdown",
   "metadata": {},
   "source": [
    "However, it looks like there are only a few very popular apps, so this market still shows potential. Let's try to get some app ideas based on the kind of apps that are somewhere in the middle in terms of popularity (between 1,000,000 and 100,000,000 downloads):"
   ]
  },
  {
   "cell_type": "code",
   "execution_count": 30,
   "metadata": {},
   "outputs": [
    {
     "name": "stdout",
     "output_type": "stream",
     "text": [
      "Wikipedia : 10,000,000\n",
      "Cool Reader : 10,000,000\n",
      "FBReader: Favorite Book Reader : 10,000,000\n",
      "HTC Help : 10,000,000\n",
      "Moon+ Reader : 10,000,000\n",
      "Aldiko Book Reader : 10,000,000\n",
      "Al-Quran (Free) : 10,000,000\n",
      "Al Quran Indonesia : 10,000,000\n",
      "Al'Quran Bahasa Indonesia : 10,000,000\n",
      "Quran for Android : 10,000,000\n",
      "Dictionary.com: Find Definitions for English Words : 10,000,000\n",
      "English Dictionary - Offline : 10,000,000\n",
      "NOOK: Read eBooks & Magazines : 10,000,000\n",
      "Dictionary : 10,000,000\n",
      "Spanish English Translator : 10,000,000\n",
      "Dictionary - Merriam-Webster : 10,000,000\n",
      "JW Library : 10,000,000\n",
      "Oxford Dictionary of English : Free : 10,000,000\n",
      "English Hindi Dictionary : 10,000,000\n",
      "AlReader -any text book reader : 5,000,000\n",
      "Ebook Reader : 5,000,000\n",
      "Read books online : 5,000,000\n",
      "Ancestry : 5,000,000\n",
      "Dictionary - WordWeb : 5,000,000\n",
      "50000 Free eBooks & Free AudioBooks : 5,000,000\n",
      "Al Quran : EAlim - Translations & MP3 Offline : 5,000,000\n",
      "Bible KJV : 5,000,000\n",
      "English to Hindi Dictionary : 5,000,000\n",
      "Book store : 1,000,000\n",
      "Free Books - Spirit Fanfiction and Stories : 1,000,000\n",
      "FamilySearch Tree : 1,000,000\n",
      "Cloud of Books : 1,000,000\n",
      "ReadEra – free ebook reader : 1,000,000\n",
      "eBoox: book reader fb2 epub zip : 1,000,000\n",
      "All Maths Formulas : 1,000,000\n",
      "English-Myanmar Dictionary : 1,000,000\n",
      "Golden Dictionary (EN-AR) : 1,000,000\n",
      "All Language Translator Free : 1,000,000\n",
      "Al Quran Al karim : 1,000,000\n",
      "Koran Read &MP3 30 Juz Offline : 1,000,000\n",
      "Hafizi Quran 15 lines per page : 1,000,000\n",
      "Satellite AR : 1,000,000\n",
      "Oxford A-Z of English Usage : 1,000,000\n",
      "Brilliant Quotes: Life, Love, Family & Motivation : 1,000,000\n",
      "Stats Royale for Clash Royale : 1,000,000\n",
      "wikiHow: how to do anything : 1,000,000\n",
      "EGW Writings : 1,000,000\n",
      "My Little Pony AR Guide : 1,000,000\n"
     ]
    }
   ],
   "source": [
    "for k, v in sorted(com_app.items(), key=lambda items: items[1], reverse=True):\n",
    "    if 1_000_000 <= v <= 50_000_000:\n",
    "        print(k, ':', f'{v:,}')"
   ]
  },
  {
   "cell_type": "markdown",
   "metadata": {},
   "source": [
    "This niche seems to be dominated by software for processing and reading ebooks, as well as various collections of libraries and dictionaries, so it's probably not a good idea to build similar apps since there'll be some significant competition.\n",
    "\n",
    "We also notice there are quite a few apps built around the book Quran, which suggests that building an app around a popular book can be profitable. It seems that taking a popular book (perhaps a more recent book) and turning it into an app could be profitable for both the Google Play and the App Store markets.\n",
    "\n",
    "However, it looks like the market is already full of libraries, so we need to add some special features besides the raw version of the book. This might include daily quotes from the book, an audio version of the book, quizzes on the book, a forum where people can discuss the book, etc.\n",
    "\n",
    "## Conclusions\n",
    "\n",
    "In this project, we analyzed data about the App Store and Google Play mobile apps with the goal of recommending an app profile that can be profitable for both markets.\n",
    "\n",
    "We concluded that taking a popular book (perhaps a more recent book) and turning it into an app could be profitable for both the Google Play and the App Store markets. The markets are already full of libraries, so we need to add some special features besides the raw version of the book. This might include daily quotes from the book, an audio version of the book, quizzes on the book, a forum where people can discuss the book, etc."
   ]
  }
 ],
 "metadata": {
  "kernelspec": {
   "display_name": "Python 3",
   "language": "python",
   "name": "python3"
  },
  "language_info": {
   "codemirror_mode": {
    "name": "ipython",
    "version": 3
   },
   "file_extension": ".py",
   "mimetype": "text/x-python",
   "name": "python",
   "nbconvert_exporter": "python",
   "pygments_lexer": "ipython3",
   "version": "3.6.2"
  }
 },
 "nbformat": 4,
 "nbformat_minor": 2
}
